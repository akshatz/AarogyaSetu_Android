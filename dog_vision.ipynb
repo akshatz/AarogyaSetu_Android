{
  "nbformat": 4,
  "nbformat_minor": 0,
  "metadata": {
    "colab": {
      "name": "dog-vision.ipynb",
      "provenance": [],
      "mount_file_id": "1TtxyhPjvqCc3TkgXVa0ojpE5m88tDx7p",
      "authorship_tag": "ABX9TyNoppaOGZGcj9MfxlveFc9b",
      "include_colab_link": true
    },
    "kernelspec": {
      "name": "python3",
      "display_name": "Python 3"
    },
    "accelerator": "GPU"
  },
  "cells": [
    {
      "cell_type": "markdown",
      "metadata": {
        "id": "view-in-github",
        "colab_type": "text"
      },
      "source": [
        "<a href=\"https://colab.research.google.com/github/akshatz/AarogyaSetu_Android/blob/master/dog_vision.ipynb\" target=\"_parent\"><img src=\"https://colab.research.google.com/assets/colab-badge.svg\" alt=\"Open In Colab\"/></a>"
      ]
    },
    {
      "cell_type": "markdown",
      "metadata": {
        "id": "eCpaR_FehNPv",
        "colab_type": "text"
      },
      "source": [
        "# End-to-end Multi-class Dog Breed Classification \n",
        "\n",
        "This builds end to end multi-class image classifier using TensorFlow 2.0 and TensorFlow Hub.\n",
        "\n",
        "## 1. Problem\n",
        "\n",
        "Identifying the breed of a dog given an image of a dog.\n",
        "\n",
        "When I'm sitting at a cafe, and I take a photo of a dog, I want to know what breed of dog it is\n",
        "\n",
        "## 2. Data\n",
        "\n",
        "The data we're using is from Kaggle's dog breed identification competetion\n",
        "\n",
        "https://www.kaggle.com/c/dog-breed-identification/data\n",
        "\n",
        "## 3. Evaluation\n",
        "\n",
        "The evaluation is a file with prediction probabilities for each dog breed of each test image\n",
        "\n",
        "https://www.kaggle.com/c/dog-breed-identification/overview/evaluation\n",
        "\n",
        "## 4. Features\n",
        "\n",
        "Some information about the data:\n",
        "\n",
        "* We are dealing with images(unstructured data) so it's probably best we use deep learning/transfer learning.\n",
        "\n",
        "* There are 120 breeds of dogs(this means there are 120 different classes).\n",
        "\n",
        "* There are 10,000+ images in training set(these images have labels).\n",
        "\n",
        "* There are 10,000+ images in test set(these images have no labels, becase we'll want to predict them).\n"
      ]
    },
    {
      "cell_type": "code",
      "metadata": {
        "id": "Z6DAyOdvC7xv",
        "colab_type": "code",
        "colab": {}
      },
      "source": [
        "# Unzip  the uploaded data into Google Drive\n",
        "#!unzip \"drive/My Drive/Colab Notebooks/DogVision/*.zip\" -d \"drive/My Drive/Colab Notebooks/DogVision/\" "
      ],
      "execution_count": 1,
      "outputs": []
    },
    {
      "cell_type": "markdown",
      "metadata": {
        "id": "Yvl1shYnl34R",
        "colab_type": "text"
      },
      "source": [
        "# Get our workspace ready\n",
        "\n",
        "* TensorFlow 2.x\n",
        "* Import TensorFlow Hub\n",
        "* Make sure we're using a GPU.\n"
      ]
    },
    {
      "cell_type": "code",
      "metadata": {
        "id": "fUO0-X4-SiUS",
        "colab_type": "code",
        "colab": {
          "base_uri": "https://localhost:8080/",
          "height": 68
        },
        "outputId": "d3b8a4d3-3094-44c1-b8e5-1dedec63a3ff"
      },
      "source": [
        "# Import necessary tools \n",
        "import tensorflow as tf\n",
        "import tensorflow_hub as hub\n",
        "print(\"Tensorflow Version:\", tf.__version__)\n",
        "print(\"TF Hub\",hub.__version__)\n",
        "\n",
        "# Check for GPU availability\n",
        "print(\"GPU\", \"available\" if tf.config.list_physical_devices(\"GPU\") else \"Not available\")"
      ],
      "execution_count": 4,
      "outputs": [
        {
          "output_type": "stream",
          "text": [
            "Tensorflow Version: 2.3.0\n",
            "TF Hub 0.9.0\n",
            "GPU available\n"
          ],
          "name": "stdout"
        }
      ]
    },
    {
      "cell_type": "markdown",
      "metadata": {
        "id": "xBnTr1LSrmF1",
        "colab_type": "text"
      },
      "source": [
        "## Getting data ready(turning into tensors)\n",
        "\n",
        "Since much of machine learning is getting your data ready to be used with a machine learning model, we'll take extra care getting it setup.\n",
        "\n",
        "There are a few ways we could do this. Many of them are detailed in the [Google Colab notebook on I/O (input and output)](https://colab.research.google.com/notebooks/io.ipynb).\n",
        "\n",
        "And because the data we're using is hosted on Kaggle, we could even use the [Kaggle API](https://www.kaggle.com/docs/api).\n",
        "\n",
        "This is great but what if the data you want to use wasn't on Kaggle?\n",
        "\n",
        "One method is to upload it to your Google Drive, mount your drive in this notebook and import the file."
      ]
    },
    {
      "cell_type": "code",
      "metadata": {
        "id": "Z6HiphOxrhH0",
        "colab_type": "code",
        "colab": {
          "base_uri": "https://localhost:8080/",
          "height": 102
        },
        "outputId": "cfa0c878-ed71-4123-9ee6-44a289176e2c"
      },
      "source": [
        "# Checkout the labels of our data\n",
        "import pandas as pd\n",
        "\n",
        "labels_csv = pd.read_csv(\"drive/My Drive/DogVision/labels.csv\")\n",
        "print(labels_csv.describe())"
      ],
      "execution_count": 7,
      "outputs": [
        {
          "output_type": "stream",
          "text": [
            "                                      id               breed\n",
            "count                              10222               10222\n",
            "unique                             10222                 120\n",
            "top     f4f3f707907977e9f619540a51e6d9fa  scottish_deerhound\n",
            "freq                                   1                 126\n"
          ],
          "name": "stdout"
        }
      ]
    },
    {
      "cell_type": "code",
      "metadata": {
        "id": "_72fufLJtKuu",
        "colab_type": "code",
        "colab": {
          "base_uri": "https://localhost:8080/",
          "height": 204
        },
        "outputId": "068196fc-e25c-42ae-ae7b-3368a98967ab"
      },
      "source": [
        "labels_csv.head()"
      ],
      "execution_count": 8,
      "outputs": [
        {
          "output_type": "execute_result",
          "data": {
            "text/html": [
              "<div>\n",
              "<style scoped>\n",
              "    .dataframe tbody tr th:only-of-type {\n",
              "        vertical-align: middle;\n",
              "    }\n",
              "\n",
              "    .dataframe tbody tr th {\n",
              "        vertical-align: top;\n",
              "    }\n",
              "\n",
              "    .dataframe thead th {\n",
              "        text-align: right;\n",
              "    }\n",
              "</style>\n",
              "<table border=\"1\" class=\"dataframe\">\n",
              "  <thead>\n",
              "    <tr style=\"text-align: right;\">\n",
              "      <th></th>\n",
              "      <th>id</th>\n",
              "      <th>breed</th>\n",
              "    </tr>\n",
              "  </thead>\n",
              "  <tbody>\n",
              "    <tr>\n",
              "      <th>0</th>\n",
              "      <td>000bec180eb18c7604dcecc8fe0dba07</td>\n",
              "      <td>boston_bull</td>\n",
              "    </tr>\n",
              "    <tr>\n",
              "      <th>1</th>\n",
              "      <td>001513dfcb2ffafc82cccf4d8bbaba97</td>\n",
              "      <td>dingo</td>\n",
              "    </tr>\n",
              "    <tr>\n",
              "      <th>2</th>\n",
              "      <td>001cdf01b096e06d78e9e5112d419397</td>\n",
              "      <td>pekinese</td>\n",
              "    </tr>\n",
              "    <tr>\n",
              "      <th>3</th>\n",
              "      <td>00214f311d5d2247d5dfe4fe24b2303d</td>\n",
              "      <td>bluetick</td>\n",
              "    </tr>\n",
              "    <tr>\n",
              "      <th>4</th>\n",
              "      <td>0021f9ceb3235effd7fcde7f7538ed62</td>\n",
              "      <td>golden_retriever</td>\n",
              "    </tr>\n",
              "  </tbody>\n",
              "</table>\n",
              "</div>"
            ],
            "text/plain": [
              "                                 id             breed\n",
              "0  000bec180eb18c7604dcecc8fe0dba07       boston_bull\n",
              "1  001513dfcb2ffafc82cccf4d8bbaba97             dingo\n",
              "2  001cdf01b096e06d78e9e5112d419397          pekinese\n",
              "3  00214f311d5d2247d5dfe4fe24b2303d          bluetick\n",
              "4  0021f9ceb3235effd7fcde7f7538ed62  golden_retriever"
            ]
          },
          "metadata": {
            "tags": []
          },
          "execution_count": 8
        }
      ]
    },
    {
      "cell_type": "code",
      "metadata": {
        "id": "lLaHXzC4tSzX",
        "colab_type": "code",
        "colab": {
          "base_uri": "https://localhost:8080/",
          "height": 531
        },
        "outputId": "5d6d054e-b71e-4099-8e61-95d2a7ed38ff"
      },
      "source": [
        "labels_csv.breed.value_counts().plot.bar(figsize=(20,10));"
      ],
      "execution_count": 10,
      "outputs": [
        {
          "output_type": "display_data",
          "data": {
            "image/png": "[encoded data removed]",
            "text/plain": [
              "<Figure size 1440x720 with 1 Axes>"
            ]
          },
          "metadata": {
            "tags": [],
            "needs_background": "light"
          }
        }
      ]
    },
    {
      "cell_type": "code",
      "metadata": {
        "id": "9BYROKW-t4Pq",
        "colab_type": "code",
        "colab": {
          "base_uri": "https://localhost:8080/",
          "height": 34
        },
        "outputId": "9eb4233c-9159-4e1c-83b1-f674b18d0832"
      },
      "source": [
        "labels_csv.breed.value_counts().median()"
      ],
      "execution_count": 9,
      "outputs": [
        {
          "output_type": "execute_result",
          "data": {
            "text/plain": [
              "82.0"
            ]
          },
          "metadata": {
            "tags": []
          },
          "execution_count": 9
        }
      ]
    },
    {
      "cell_type": "code",
      "metadata": {
        "id": "3vvNbckJuj1E",
        "colab_type": "code",
        "colab": {}
      },
      "source": [
        "# Let's view an image\n",
        "from IPython.display import Image\n",
        "Image(\"drive/My Drive/DogVision/train/001513dfcb2ffafc82cccf4d8bbaba97.jpg\")"
      ],
      "execution_count": null,
      "outputs": []
    },
    {
      "cell_type": "markdown",
      "metadata": {
        "id": "zGRQXqOOwYi-",
        "colab_type": "text"
      },
      "source": [
        "### Getting Images and their labels\n",
        "\n",
        "Let's get list of all of our image file pathnames"
      ]
    },
    {
      "cell_type": "code",
      "metadata": {
        "id": "_mtT2zz2xMpV",
        "colab_type": "code",
        "colab": {}
      },
      "source": [
        "labels_csv.head()"
      ],
      "execution_count": null,
      "outputs": []
    },
    {
      "cell_type": "code",
      "metadata": {
        "id": "gK8VQB9oxah9",
        "colab_type": "code",
        "colab": {}
      },
      "source": [
        "# Create  path names from image ID's\n",
        "filenames = [\"drive/My Drive/DogVision/train/\"+fname + \".jpg\" for fname in labels_csv.id]\n",
        "\n",
        "# Check the first 10\n",
        "filenames"
      ],
      "execution_count": null,
      "outputs": []
    },
    {
      "cell_type": "code",
      "metadata": {
        "id": "d67rLxmvxztw",
        "colab_type": "code",
        "colab": {}
      },
      "source": [
        "# Check whether no of filenames matches no of actual image files\n",
        "import os\n",
        "if len(os.listdir(\"drive/My Drive/DogVision/train/\")) == len(filenames):\n",
        "  print(\"Matches. You can proceed\")\n",
        "else:\n",
        "  print(\"Check the target directory\")"
      ],
      "execution_count": null,
      "outputs": []
    },
    {
      "cell_type": "code",
      "metadata": {
        "id": "iVQoBgR_y9lw",
        "colab_type": "code",
        "colab": {}
      },
      "source": [
        "# One more check\n",
        "Image(filenames[9000])"
      ],
      "execution_count": null,
      "outputs": []
    },
    {
      "cell_type": "code",
      "metadata": {
        "id": "M1hhT48L2tQc",
        "colab_type": "code",
        "colab": {}
      },
      "source": [
        "labels_csv.breed[9000]"
      ],
      "execution_count": null,
      "outputs": []
    },
    {
      "cell_type": "code",
      "metadata": {
        "id": "_KxuzcjM2lBg",
        "colab_type": "code",
        "colab": {}
      },
      "source": [
        "import numpy as np\n",
        "\n",
        "labels = labels_csv.breed.to_numpy()\n",
        "#labels = np.array(labels)\n",
        "labels"
      ],
      "execution_count": null,
      "outputs": []
    },
    {
      "cell_type": "code",
      "metadata": {
        "id": "_stOWwG-3qxv",
        "colab_type": "code",
        "colab": {}
      },
      "source": [
        "len(labels)"
      ],
      "execution_count": null,
      "outputs": []
    },
    {
      "cell_type": "code",
      "metadata": {
        "id": "3YI6-YVN3uR_",
        "colab_type": "code",
        "colab": {}
      },
      "source": [
        "# See if no of labels matches with no of filenames\n",
        "if len(labels) == len(labels_csv):\n",
        "  print(\"Matches\")\n",
        "else:\n",
        "  print(\"Not matches\")"
      ],
      "execution_count": null,
      "outputs": []
    },
    {
      "cell_type": "code",
      "metadata": {
        "id": "Q0WAZmeh4T5n",
        "colab_type": "code",
        "colab": {}
      },
      "source": [
        "# Find unique label values\n",
        "unique_breeds = np.unique(labels)\n",
        "len(unique_breeds)"
      ],
      "execution_count": null,
      "outputs": []
    },
    {
      "cell_type": "code",
      "metadata": {
        "id": "gJujuW2X56yO",
        "colab_type": "code",
        "colab": {}
      },
      "source": [
        "unique_breeds[0]"
      ],
      "execution_count": null,
      "outputs": []
    },
    {
      "cell_type": "code",
      "metadata": {
        "id": "X_40VWhh4m0l",
        "colab_type": "code",
        "colab": {}
      },
      "source": [
        "# Turn a single label into an array of booleans\n",
        "print(labels[0])\n",
        "labels[0] == unique_breeds"
      ],
      "execution_count": null,
      "outputs": []
    },
    {
      "cell_type": "code",
      "metadata": {
        "id": "TFKDXOdK51YZ",
        "colab_type": "code",
        "colab": {}
      },
      "source": [
        "# Turn every label to a boolean array\n",
        "boolean_labels = [label == unique_breeds for label in labels]"
      ],
      "execution_count": null,
      "outputs": []
    },
    {
      "cell_type": "code",
      "metadata": {
        "id": "1OIO_T-H6dko",
        "colab_type": "code",
        "colab": {}
      },
      "source": [
        "boolean_labels"
      ],
      "execution_count": null,
      "outputs": []
    },
    {
      "cell_type": "code",
      "metadata": {
        "id": "5VvoMoHj6flc",
        "colab_type": "code",
        "colab": {}
      },
      "source": [
        "len(boolean_labels)"
      ],
      "execution_count": null,
      "outputs": []
    },
    {
      "cell_type": "code",
      "metadata": {
        "id": "jh-OH0oi6mG_",
        "colab_type": "code",
        "colab": {}
      },
      "source": [
        "# Example: Turning boolean array to integers\n",
        "print(labels[0]) # original label\n",
        "print(np.where(unique_breeds == labels[0])) # index where label occurs\n",
        "print(boolean_labels[0].argmax()) # index where label occurs  in boolean array\n",
        "print(boolean_labels[0].astype(int)) # there will be a 1 where the sample label occurs"
      ],
      "execution_count": null,
      "outputs": []
    },
    {
      "cell_type": "code",
      "metadata": {
        "id": "gobN69DG7wMx",
        "colab_type": "code",
        "colab": {}
      },
      "source": [
        ""
      ],
      "execution_count": null,
      "outputs": []
    }
  ]
}